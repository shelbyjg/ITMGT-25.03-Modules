{
 "cells": [
  {
   "cell_type": "code",
   "execution_count": 1,
   "id": "f682a69f-b8c7-4992-837d-1c3af9457f12",
   "metadata": {},
   "outputs": [],
   "source": [
    "import urllib.request"
   ]
  },
  {
   "cell_type": "code",
   "execution_count": 11,
   "id": "5e0861f2-81b6-42d4-a342-743926f71d93",
   "metadata": {},
   "outputs": [],
   "source": [
    "with urllib.request.urlopen(\"https://www.gutenberg.org/cache/epub/10/pg10.txt\") as response:\n",
    "    pg10 = response.read().decode('utf-8')"
   ]
  },
  {
   "cell_type": "code",
   "execution_count": 14,
   "id": "36b690c5-6fa3-4711-a177-937e719ef5c5",
   "metadata": {},
   "outputs": [
    {
     "name": "stdout",
     "output_type": "stream",
     "text": [
      "Number of lines: 99968\n"
     ]
    }
   ],
   "source": [
    "num_lines = len(pg10.splitlines())\n",
    "print(f\"Number of lines: {num_lines}\")"
   ]
  },
  {
   "cell_type": "code",
   "execution_count": 18,
   "id": "ec954109-c2cd-483d-819c-7ccb4b5ee60f",
   "metadata": {},
   "outputs": [
    {
     "name": "stdout",
     "output_type": "stream",
     "text": [
      "Number of words: 795227\n"
     ]
    }
   ],
   "source": [
    "def count_words(text):\n",
    "    words = []\n",
    "    current_word = []\n",
    "    \n",
    "    for char in text:\n",
    "        if char.isalpha():\n",
    "            current_word.append(char.lower())  \n",
    "        elif current_word:\n",
    "            words.append(''.join(current_word))  \n",
    "            current_word = []  \n",
    "    if current_word:\n",
    "        words.append(''.join(current_word))  # Append the last word if any\n",
    "    return words\n",
    "\n",
    "words = count_words(pg10)\n",
    "num_words = len(words)\n",
    "\n",
    "print(f\"Number of words: {num_words}\")"
   ]
  },
  {
   "cell_type": "code",
   "execution_count": 20,
   "id": "b743f32a-a794-4227-bcdb-d37eba53efc9",
   "metadata": {},
   "outputs": [
    {
     "name": "stdout",
     "output_type": "stream",
     "text": [
      "Number of times 'apostle' appears: 47\n"
     ]
    }
   ],
   "source": [
    "apostle_count = sum(word.lower() == \"apostle\" for word in words)\n",
    "print(f\"Number of times 'apostle' appears: {apostle_count}\")"
   ]
  },
  {
   "cell_type": "code",
   "execution_count": 26,
   "id": "31ed99a1-7663-4dd8-bf1e-e661c850053c",
   "metadata": {},
   "outputs": [
    {
     "name": "stdout",
     "output_type": "stream",
     "text": [
      "Most common word: the\n"
     ]
    }
   ],
   "source": [
    "word_counts = {}\n",
    "for word in words:\n",
    "    word = word.lower()\n",
    "    word_counts[word] = word_counts.get(word, 0) + 1\n",
    "\n",
    "most_common_word = max(word_counts, key=word_counts.get)\n",
    "print(f\"Most common word: {most_common_word}\")"
   ]
  }
 ],
 "metadata": {
  "kernelspec": {
   "display_name": "Python 3 (ipykernel)",
   "language": "python",
   "name": "python3"
  },
  "language_info": {
   "codemirror_mode": {
    "name": "ipython",
    "version": 3
   },
   "file_extension": ".py",
   "mimetype": "text/x-python",
   "name": "python",
   "nbconvert_exporter": "python",
   "pygments_lexer": "ipython3",
   "version": "3.11.7"
  }
 },
 "nbformat": 4,
 "nbformat_minor": 5
}
